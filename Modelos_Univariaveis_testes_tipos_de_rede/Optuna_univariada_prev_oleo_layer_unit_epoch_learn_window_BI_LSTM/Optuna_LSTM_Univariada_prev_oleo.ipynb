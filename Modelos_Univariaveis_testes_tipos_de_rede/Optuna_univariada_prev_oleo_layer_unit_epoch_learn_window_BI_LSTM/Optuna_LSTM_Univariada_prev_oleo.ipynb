{
  "cells": [
    {
      "attachments": {},
      "cell_type": "markdown",
      "metadata": {
        "id": "w7ZqkWJtcyk4"
      },
      "source": [
        "## Modules"
      ]
    },
    {
      "cell_type": "code",
      "execution_count": 53,
      "metadata": {
        "id": "PsqKEJzycd_2"
      },
      "outputs": [],
      "source": [
        "import numpy as np\n",
        "import pandas as pd\n",
        "from keras.models import Sequential\n",
        "from keras.layers import SimpleRNN, Dense\n",
        "import matplotlib.pyplot as plt\n",
        "from keras.models import Sequential\n",
        "from keras.layers import SimpleRNN, Dense\n",
        "from keras.layers import Bidirectional\n",
        "from tensorflow.keras.models import Sequential\n",
        "from tensorflow.keras.layers import LSTM, Dense\n",
        "from sklearn.metrics import mean_squared_error\n",
        "from tensorflow.keras.layers import GRU, Dense\n",
        "from sklearn.preprocessing import MinMaxScaler, StandardScaler\n",
        "from tensorflow.keras.callbacks import ReduceLROnPlateau\n",
        "from sklearn.preprocessing import StandardScaler, MinMaxScaler, RobustScaler\n",
        "import tensorflow as tf\n",
        "from tensorflow.keras.layers import Dropout\n",
        "import optuna\n",
        "\n",
        "\n",
        "from time import time_ns\n",
        "import random\n",
        "import keras\n",
        "\n",
        "SEED = 10\n",
        "\n",
        "random.seed(SEED)\n",
        "np.random.seed(SEED)\n",
        "keras.utils.set_random_seed(SEED)"
      ]
    },
    {
      "cell_type": "code",
      "execution_count": 54,
      "metadata": {},
      "outputs": [
        {
          "name": "stdout",
          "output_type": "stream",
          "text": [
            "Tensorflow Version: 2.10.1\n",
            "Num GPUs: 1\n"
          ]
        }
      ],
      "source": [
        "print('Tensorflow Version: ' + tf.__version__)\n",
        "physical_devices = tf.config.list_physical_devices('GPU')\n",
        "print(\"Num GPUs:\", len(physical_devices))"
      ]
    },
    {
      "attachments": {},
      "cell_type": "markdown",
      "metadata": {
        "id": "x76iQMFYc0_9"
      },
      "source": [
        "## Funções Uteis"
      ]
    },
    {
      "cell_type": "code",
      "execution_count": 55,
      "metadata": {
        "id": "T0pLvP_fc6R-"
      },
      "outputs": [],
      "source": [
        "def plot_list(input_list, figsize=(20, 6)):\n",
        "    \"\"\"\n",
        "    Plot a given list.\n",
        "\n",
        "    Parameters:\n",
        "        input_list (list): The list of data points to be plotted.\n",
        "\n",
        "    Returns:\n",
        "        None: The function displays the plot.\n",
        "    \"\"\"\n",
        "    # Generate x values as indices of the list elements\n",
        "    x = range(len(input_list))\n",
        "\n",
        "    # Set the figure size\n",
        "    plt.figure(figsize=figsize)\n",
        "\n",
        "    # Plot the data\n",
        "    plt.plot(x, input_list)\n",
        "\n",
        "    # Add labels and title\n",
        "    plt.xlabel('Index')\n",
        "    plt.ylabel('BORE_OIL_VOL')\n",
        "    plt.title('Plot of the BORE_OIL_VOL')\n",
        "\n",
        "    # Display the plot\n",
        "    plt.show()"
      ]
    },
    {
      "cell_type": "code",
      "execution_count": 56,
      "metadata": {
        "id": "XKm2mnC7fajw"
      },
      "outputs": [],
      "source": [
        "def plot_train_test_data(train, test, split_index):\n",
        "    \"\"\"\n",
        "    Plot the train and test data with a red dashed line indicating the split_index.\n",
        "\n",
        "    Parameters:\n",
        "        train (list): The train data to be plotted.\n",
        "        test (list): The test data to be plotted.\n",
        "        split_index (int): The index where the data is split between train and test.\n",
        "\n",
        "    Returns:\n",
        "        None\n",
        "    \"\"\"\n",
        "    plt.figure(figsize=(20, 6))\n",
        "    plt.plot(range(len(train)), train, 'k-', label='Train Data')  # Black line for Train\n",
        "    plt.plot(range(len(train), len(train) + len(test)), test, 'b-', label='Test Data')  # Blue line for Test\n",
        "    plt.axvline(x=split_index - 0.5, color='r', linestyle='--', label='Split Index')  # Red dashed line at split_index\n",
        "\n",
        "    # Add labels and title\n",
        "    plt.xlabel('Index')\n",
        "    plt.ylabel('Value')\n",
        "    plt.title('Train and Test Data')\n",
        "    plt.legend()\n",
        "\n",
        "    # Show the plot\n",
        "    plt.show()"
      ]
    },
    {
      "cell_type": "code",
      "execution_count": 57,
      "metadata": {
        "id": "_52-jpKhgdTU"
      },
      "outputs": [],
      "source": [
        "def scale_train_test_data(train, test, scaling_type='minmax'):\n",
        "    \"\"\"\n",
        "    Scale the train and test data using the specified scaling method.\n",
        "\n",
        "    Parameters:\n",
        "        train (list or numpy array): The train data to be used for fitting the scaler.\n",
        "        test (list or numpy array): The test data to be transformed using the fitted scaler.\n",
        "        scaling_type (str, optional): The type of scaling method. Possible values are 'standard',\n",
        "                                      'minmax' (default), and 'robust'.\n",
        "\n",
        "    Returns:\n",
        "        tuple: A tuple containing the transformed train and test data.\n",
        "    \"\"\"\n",
        "    # Convert train and test data to numpy arrays if they are not already\n",
        "    if not isinstance(train, np.ndarray):\n",
        "        train = np.array(train)\n",
        "    if not isinstance(test, np.ndarray):\n",
        "        test = np.array(test)\n",
        "\n",
        "    # Initialize the scaler based on the specified scaling_type\n",
        "    if scaling_type == 'standard':\n",
        "        scaler = StandardScaler()\n",
        "    elif scaling_type == 'minmax':\n",
        "        scaler = MinMaxScaler()\n",
        "    elif scaling_type == 'robust':\n",
        "        scaler = RobustScaler()\n",
        "    else:\n",
        "        raise ValueError(\"Invalid scaling_type. Supported values are 'standard', 'minmax', or 'robust'.\")\n",
        "\n",
        "    # Fit the scaler to the train data\n",
        "    scaler.fit(train.reshape(-1, 1))  # Reshape to a single feature for fitting\n",
        "\n",
        "    # Transform train and test data using the fitted scaler\n",
        "    train_scaled = scaler.transform(train.reshape(-1, 1)).flatten()\n",
        "    test_scaled = scaler.transform(test.reshape(-1, 1)).flatten()\n",
        "\n",
        "    return train_scaled, test_scaled"
      ]
    },
    {
      "cell_type": "code",
      "execution_count": 58,
      "metadata": {
        "id": "546DpyCjhaqw"
      },
      "outputs": [],
      "source": [
        "def prepare_rnn_data(scaled_data, window_size, num_outputs=1):\n",
        "    \"\"\"\n",
        "    Prepare the scaled data for an RNN model.\n",
        "\n",
        "    Parameters:\n",
        "        scaled_data (numpy array): The scaled data to be prepared.\n",
        "        window_size (int): The number of time steps to consider as input for the RNN.\n",
        "        num_outputs (int, optional): The number of output time steps for prediction (default=1).\n",
        "\n",
        "    Returns:\n",
        "        tuple: A tuple containing the input sequences and corresponding output sequences.\n",
        "    \"\"\"\n",
        "    data_size = len(scaled_data)\n",
        "\n",
        "    # Create empty lists to store input and output sequences\n",
        "    input_sequences = []\n",
        "    output_sequences = []\n",
        "\n",
        "    # Generate input and output sequences\n",
        "    for i in range(data_size - window_size - num_outputs + 1):\n",
        "        input_seq = scaled_data[i : i + window_size]\n",
        "        output_seq = scaled_data[i + window_size : i + window_size + num_outputs]\n",
        "        input_sequences.append(input_seq)\n",
        "        output_sequences.append(output_seq)\n",
        "\n",
        "    # Convert the lists to numpy arrays for RNN input\n",
        "    input_sequences = np.array(input_sequences)\n",
        "    output_sequences = np.array(output_sequences)\n",
        "\n",
        "    return input_sequences, output_sequences"
      ]
    },
    {
      "cell_type": "code",
      "execution_count": 59,
      "metadata": {
        "id": "Pxn6SdPDl-B8"
      },
      "outputs": [],
      "source": [
        "def prepare_rnn_data(scaled_data, window_size, num_outputs=1):\n",
        "    \"\"\"\n",
        "    Prepare a list as a dataset for training an RNN.\n",
        "\n",
        "    Parameters:\n",
        "        input_list (list): The list of data points.\n",
        "        window_size (int): The number of time steps in each window for prediction.\n",
        "        train_ratio (float, optional): The ratio of training data to the entire dataset. Default is 0.8.\n",
        "        scaling (str, optional): The scaling method. Options: None (no scaling), \"minmax\" (Min-Max Scaling),\n",
        "                                 \"standard\" (Standardization). Default is None.\n",
        "\n",
        "    Returns:\n",
        "        tuple: A tuple containing the train and test datasets in the format (X_train, y_train, X_test, y_test).\n",
        "              X_train (numpy.ndarray): Training features (input sequences).\n",
        "              y_train (numpy.ndarray): Training labels (output values to be predicted).\n",
        "              X_test (numpy.ndarray): Testing features (input sequences).\n",
        "              y_test (numpy.ndarray): Testing labels (output values to be predicted).\n",
        "    \"\"\"\n",
        "    # Create windows for the RNN\n",
        "    windows = []\n",
        "    num_windows = len(scaled_data) - window_size + 1\n",
        "\n",
        "    for i in range(num_windows):\n",
        "        window = scaled_data[i:i + window_size]\n",
        "        windows.append(window)\n",
        "\n",
        "    # Convert the list of windows to a numpy array\n",
        "    scaled_data = np.array(windows)\n",
        "\n",
        "    # Split the dataset into train and test sets\n",
        "    split_index = int(len(scaled_data) * train_ratio)\n",
        "    X, y = scaled_data[:split_index, :-1], scaled_data[:split_index, -1]\n",
        "\n",
        "\n",
        "    return X,y"
      ]
    },
    {
      "cell_type": "code",
      "execution_count": 60,
      "metadata": {
        "id": "sl3twywnnRxm"
      },
      "outputs": [],
      "source": [
        "def plot_result_graphs(train_loss_history, y_train, y_train_pred, y_test, y_test_pred):\n",
        "        plt.figure(figsize=(14, 10))\n",
        "\n",
        "        # Plot Train and Test Loss\n",
        "        plt.subplot(2, 2, 1)\n",
        "        plt.plot(train_loss_history, label='Train Loss')\n",
        "        plt.xlabel('Epochs')\n",
        "        plt.ylabel('Loss')\n",
        "        plt.title('Train and Test Loss')\n",
        "        plt.legend()\n",
        "\n",
        "        # Plot Train Data and Train Prediction\n",
        "        plt.subplot(2, 2, 2)\n",
        "        plt.plot(y_train, label='Train Data', marker='o')\n",
        "        plt.plot(y_train_pred, label='Train Prediction', marker='x')\n",
        "        plt.xlabel('Time')\n",
        "        plt.ylabel('Value')\n",
        "        plt.title('Train Data and Train Prediction')\n",
        "        plt.legend()\n",
        "\n",
        "        # Plot Test Data and Test Prediction\n",
        "        plt.subplot(2, 2, 3)\n",
        "        plt.plot(y_test, label='Test Data', marker='o')\n",
        "        plt.plot(y_test_pred, label='Test Prediction', marker='x')\n",
        "        plt.xlabel('Time')\n",
        "        plt.ylabel('Value')\n",
        "        plt.title('Test Data and Test Prediction')\n",
        "        plt.legend()\n",
        "\n",
        "        plt.tight_layout()\n",
        "        plt.show()"
      ]
    },
    {
      "attachments": {},
      "cell_type": "markdown",
      "metadata": {
        "id": "mrcaSiGEc3Md"
      },
      "source": [
        "## Carregar a Base de dados do Drive"
      ]
    },
    {
      "cell_type": "code",
      "execution_count": 61,
      "metadata": {
        "colab": {
          "base_uri": "https://localhost:8080/",
          "height": 423
        },
        "id": "1mWAccXXcgY-",
        "outputId": "c109b1ad-bd59-42b3-bd16-ef519564a045"
      },
      "outputs": [
        {
          "data": {
            "text/html": [
              "<div>\n",
              "<style scoped>\n",
              "    .dataframe tbody tr th:only-of-type {\n",
              "        vertical-align: middle;\n",
              "    }\n",
              "\n",
              "    .dataframe tbody tr th {\n",
              "        vertical-align: top;\n",
              "    }\n",
              "\n",
              "    .dataframe thead th {\n",
              "        text-align: right;\n",
              "    }\n",
              "</style>\n",
              "<table border=\"1\" class=\"dataframe\">\n",
              "  <thead>\n",
              "    <tr style=\"text-align: right;\">\n",
              "      <th></th>\n",
              "      <th>DATEPRD</th>\n",
              "      <th>WELL_BORE_CODE</th>\n",
              "      <th>NPD_WELL_BORE_CODE</th>\n",
              "      <th>NPD_WELL_BORE_NAME</th>\n",
              "      <th>NPD_FIELD_CODE</th>\n",
              "      <th>NPD_FIELD_NAME</th>\n",
              "      <th>NPD_FACILITY_CODE</th>\n",
              "      <th>NPD_FACILITY_NAME</th>\n",
              "      <th>ON_STREAM_HRS</th>\n",
              "      <th>AVG_DOWNHOLE_PRESSURE</th>\n",
              "      <th>...</th>\n",
              "      <th>AVG_CHOKE_UOM</th>\n",
              "      <th>AVG_WHP_P</th>\n",
              "      <th>AVG_WHT_P</th>\n",
              "      <th>DP_CHOKE_SIZE</th>\n",
              "      <th>BORE_OIL_VOL</th>\n",
              "      <th>BORE_GAS_VOL</th>\n",
              "      <th>BORE_WAT_VOL</th>\n",
              "      <th>BORE_WI_VOL</th>\n",
              "      <th>FLOW_KIND</th>\n",
              "      <th>WELL_TYPE</th>\n",
              "    </tr>\n",
              "  </thead>\n",
              "  <tbody>\n",
              "    <tr>\n",
              "      <th>0</th>\n",
              "      <td>2014-04-07</td>\n",
              "      <td>NO 15/9-F-1 C</td>\n",
              "      <td>7405</td>\n",
              "      <td>15/9-F-1 C</td>\n",
              "      <td>3420717</td>\n",
              "      <td>VOLVE</td>\n",
              "      <td>369304</td>\n",
              "      <td>MÆRSK INSPIRER</td>\n",
              "      <td>0.0</td>\n",
              "      <td>0.00000</td>\n",
              "      <td>...</td>\n",
              "      <td>%</td>\n",
              "      <td>0.00000</td>\n",
              "      <td>0.00000</td>\n",
              "      <td>0.00000</td>\n",
              "      <td>0.0</td>\n",
              "      <td>0.0</td>\n",
              "      <td>0.0</td>\n",
              "      <td>NaN</td>\n",
              "      <td>production</td>\n",
              "      <td>WI</td>\n",
              "    </tr>\n",
              "    <tr>\n",
              "      <th>1</th>\n",
              "      <td>2014-04-08</td>\n",
              "      <td>NO 15/9-F-1 C</td>\n",
              "      <td>7405</td>\n",
              "      <td>15/9-F-1 C</td>\n",
              "      <td>3420717</td>\n",
              "      <td>VOLVE</td>\n",
              "      <td>369304</td>\n",
              "      <td>MÆRSK INSPIRER</td>\n",
              "      <td>0.0</td>\n",
              "      <td>NaN</td>\n",
              "      <td>...</td>\n",
              "      <td>%</td>\n",
              "      <td>0.00000</td>\n",
              "      <td>0.00000</td>\n",
              "      <td>0.00000</td>\n",
              "      <td>0.0</td>\n",
              "      <td>0.0</td>\n",
              "      <td>0.0</td>\n",
              "      <td>NaN</td>\n",
              "      <td>production</td>\n",
              "      <td>OP</td>\n",
              "    </tr>\n",
              "    <tr>\n",
              "      <th>2</th>\n",
              "      <td>2014-04-09</td>\n",
              "      <td>NO 15/9-F-1 C</td>\n",
              "      <td>7405</td>\n",
              "      <td>15/9-F-1 C</td>\n",
              "      <td>3420717</td>\n",
              "      <td>VOLVE</td>\n",
              "      <td>369304</td>\n",
              "      <td>MÆRSK INSPIRER</td>\n",
              "      <td>0.0</td>\n",
              "      <td>NaN</td>\n",
              "      <td>...</td>\n",
              "      <td>%</td>\n",
              "      <td>0.00000</td>\n",
              "      <td>0.00000</td>\n",
              "      <td>0.00000</td>\n",
              "      <td>0.0</td>\n",
              "      <td>0.0</td>\n",
              "      <td>0.0</td>\n",
              "      <td>NaN</td>\n",
              "      <td>production</td>\n",
              "      <td>OP</td>\n",
              "    </tr>\n",
              "    <tr>\n",
              "      <th>3</th>\n",
              "      <td>2014-04-10</td>\n",
              "      <td>NO 15/9-F-1 C</td>\n",
              "      <td>7405</td>\n",
              "      <td>15/9-F-1 C</td>\n",
              "      <td>3420717</td>\n",
              "      <td>VOLVE</td>\n",
              "      <td>369304</td>\n",
              "      <td>MÆRSK INSPIRER</td>\n",
              "      <td>0.0</td>\n",
              "      <td>NaN</td>\n",
              "      <td>...</td>\n",
              "      <td>%</td>\n",
              "      <td>0.00000</td>\n",
              "      <td>0.00000</td>\n",
              "      <td>0.00000</td>\n",
              "      <td>0.0</td>\n",
              "      <td>0.0</td>\n",
              "      <td>0.0</td>\n",
              "      <td>NaN</td>\n",
              "      <td>production</td>\n",
              "      <td>OP</td>\n",
              "    </tr>\n",
              "    <tr>\n",
              "      <th>4</th>\n",
              "      <td>2014-04-11</td>\n",
              "      <td>NO 15/9-F-1 C</td>\n",
              "      <td>7405</td>\n",
              "      <td>15/9-F-1 C</td>\n",
              "      <td>3420717</td>\n",
              "      <td>VOLVE</td>\n",
              "      <td>369304</td>\n",
              "      <td>MÆRSK INSPIRER</td>\n",
              "      <td>0.0</td>\n",
              "      <td>310.37614</td>\n",
              "      <td>...</td>\n",
              "      <td>%</td>\n",
              "      <td>33.09788</td>\n",
              "      <td>10.47992</td>\n",
              "      <td>33.07195</td>\n",
              "      <td>0.0</td>\n",
              "      <td>0.0</td>\n",
              "      <td>0.0</td>\n",
              "      <td>NaN</td>\n",
              "      <td>production</td>\n",
              "      <td>OP</td>\n",
              "    </tr>\n",
              "  </tbody>\n",
              "</table>\n",
              "<p>5 rows × 24 columns</p>\n",
              "</div>"
            ],
            "text/plain": [
              "     DATEPRD WELL_BORE_CODE  NPD_WELL_BORE_CODE NPD_WELL_BORE_NAME  \\\n",
              "0 2014-04-07  NO 15/9-F-1 C                7405         15/9-F-1 C   \n",
              "1 2014-04-08  NO 15/9-F-1 C                7405         15/9-F-1 C   \n",
              "2 2014-04-09  NO 15/9-F-1 C                7405         15/9-F-1 C   \n",
              "3 2014-04-10  NO 15/9-F-1 C                7405         15/9-F-1 C   \n",
              "4 2014-04-11  NO 15/9-F-1 C                7405         15/9-F-1 C   \n",
              "\n",
              "   NPD_FIELD_CODE NPD_FIELD_NAME  NPD_FACILITY_CODE NPD_FACILITY_NAME  \\\n",
              "0         3420717          VOLVE             369304    MÆRSK INSPIRER   \n",
              "1         3420717          VOLVE             369304    MÆRSK INSPIRER   \n",
              "2         3420717          VOLVE             369304    MÆRSK INSPIRER   \n",
              "3         3420717          VOLVE             369304    MÆRSK INSPIRER   \n",
              "4         3420717          VOLVE             369304    MÆRSK INSPIRER   \n",
              "\n",
              "   ON_STREAM_HRS  AVG_DOWNHOLE_PRESSURE  ...  AVG_CHOKE_UOM  AVG_WHP_P  \\\n",
              "0            0.0                0.00000  ...              %    0.00000   \n",
              "1            0.0                    NaN  ...              %    0.00000   \n",
              "2            0.0                    NaN  ...              %    0.00000   \n",
              "3            0.0                    NaN  ...              %    0.00000   \n",
              "4            0.0              310.37614  ...              %   33.09788   \n",
              "\n",
              "   AVG_WHT_P  DP_CHOKE_SIZE BORE_OIL_VOL  BORE_GAS_VOL  BORE_WAT_VOL  \\\n",
              "0    0.00000        0.00000          0.0           0.0           0.0   \n",
              "1    0.00000        0.00000          0.0           0.0           0.0   \n",
              "2    0.00000        0.00000          0.0           0.0           0.0   \n",
              "3    0.00000        0.00000          0.0           0.0           0.0   \n",
              "4   10.47992       33.07195          0.0           0.0           0.0   \n",
              "\n",
              "   BORE_WI_VOL   FLOW_KIND  WELL_TYPE  \n",
              "0          NaN  production         WI  \n",
              "1          NaN  production         OP  \n",
              "2          NaN  production         OP  \n",
              "3          NaN  production         OP  \n",
              "4          NaN  production         OP  \n",
              "\n",
              "[5 rows x 24 columns]"
            ]
          },
          "execution_count": 61,
          "metadata": {},
          "output_type": "execute_result"
        }
      ],
      "source": [
        "###########################################################\n",
        "file_name = r\"C:\\Users\\vinicius\\Documents\\Repositorios\\TimeSeriesPredictionFinalProject\\src\\data\\Base_Volve_Pocos.xlsx\" # File name\n",
        "###########################################################\n",
        "\n",
        "#MELHOR PARA TREINAR E FICAR BOM: 'NO15-9-F-1-C'>'NO15-9-F-15-D' -> Esse cara vai muito para zero\n",
        "# BOM MAS COM PERFIL SHIFITADO 'NO15-9-F-11-H'~=~'NO15-9-F-12-H'#\n",
        "sheet_name ='NO15-9-F-1-C' #'NO15-9-F-12-H'# 'NO15-9-F-14-H'#'NO15-9-F-15-D'#'NO15-9-F-11-H'#'NO15-9-F-12-H'#'NO15-9-F-11-H'# 4th sheet\n",
        "header = 0 # The header is the 2nd row\n",
        "df_full = pd.read_excel(file_name, sheet_name = sheet_name, header = header)\n",
        "df_full.head()"
      ]
    },
    {
      "attachments": {},
      "cell_type": "markdown",
      "metadata": {
        "id": "ZAyOs1hYcqas"
      },
      "source": [
        "## Pre processamento"
      ]
    },
    {
      "cell_type": "code",
      "execution_count": 62,
      "metadata": {
        "colab": {
          "base_uri": "https://localhost:8080/",
          "height": 556
        },
        "id": "-m38rNQ3cqGv",
        "outputId": "a137e184-a7e4-4aa9-a616-0ef439754262"
      },
      "outputs": [
        {
          "name": "stdout",
          "output_type": "stream",
          "text": [
            "<class 'pandas.core.series.Series'>\n"
          ]
        },
        {
          "data": {
            "image/png": "[encoded data removed]",
            "text/plain": [
              "<Figure size 2000x600 with 1 Axes>"
            ]
          },
          "metadata": {},
          "output_type": "display_data"
        }
      ],
      "source": [
        "df_filter=df_full[df_full['WELL_TYPE'] != 'WI']\n",
        "df_filter.isna().sum()\n",
        "target = df_filter['BORE_OIL_VOL']\n",
        "print(type(target))\n",
        "plot_list(target)"
      ]
    },
    {
      "attachments": {},
      "cell_type": "markdown",
      "metadata": {
        "id": "-mV6kWtgdNGO"
      },
      "source": [
        "## Split Train and Test dataset"
      ]
    },
    {
      "cell_type": "code",
      "execution_count": 63,
      "metadata": {
        "id": "LItzzSy5dAqR"
      },
      "outputs": [],
      "source": [
        "train_ratio = 0.8\n",
        "scaling = \"minmax\"\n",
        "\n",
        "# Split the dataset into train and test sets\n",
        "split_index = int(len(target) * train_ratio)\n",
        "\n",
        "Train = target[:split_index]\n",
        "Test = target[split_index:]\n"
      ]
    },
    {
      "cell_type": "code",
      "execution_count": 64,
      "metadata": {
        "colab": {
          "base_uri": "https://localhost:8080/"
        },
        "id": "Jtmc25OTeeEW",
        "outputId": "eaa97e2b-11ad-4d69-c13d-21817e3cf1f6"
      },
      "outputs": [
        {
          "name": "stdout",
          "output_type": "stream",
          "text": [
            "(595,)\n",
            "(149,)\n"
          ]
        }
      ],
      "source": [
        "print(Train.shape)\n",
        "print(Test.shape)"
      ]
    },
    {
      "cell_type": "code",
      "execution_count": 65,
      "metadata": {
        "colab": {
          "base_uri": "https://localhost:8080/",
          "height": 564
        },
        "id": "XReTrUwTeiec",
        "outputId": "025a9a93-9078-4bf1-94d6-e851540cd564"
      },
      "outputs": [
        {
          "data": {
            "image/png": "[encoded data removed]",
            "text/plain": [
              "<Figure size 2000x600 with 1 Axes>"
            ]
          },
          "metadata": {},
          "output_type": "display_data"
        }
      ],
      "source": [
        "plot_train_test_data(Train, Test, split_index)"
      ]
    },
    {
      "attachments": {},
      "cell_type": "markdown",
      "metadata": {
        "id": "DapUjDuHgo_c"
      },
      "source": [
        "## Scaled Data"
      ]
    },
    {
      "cell_type": "code",
      "execution_count": 66,
      "metadata": {
        "colab": {
          "base_uri": "https://localhost:8080/"
        },
        "id": "Eiq9Cz4FfelP",
        "outputId": "5904f638-dc89-46a4-fca3-c025c986d534"
      },
      "outputs": [
        {
          "name": "stdout",
          "output_type": "stream",
          "text": [
            "Scaled Train Data: [0.         0.         0.         0.         0.         0.\n",
            " 0.         0.         0.         0.         0.         0.\n",
            " 0.         0.         0.40744995 0.7526471  1.         0.80571167\n",
            " 0.8683516  0.87079061]\n",
            "\n",
            "Scaled Test Data: [0.19930185 0.18703583 0.2011924  0.20558004 0.20958698 0.20788355\n",
            " 0.20542518 0.22561475 0.2274795  0.24008749 0.21580065 0.23002174\n",
            " 0.2333899  0.26216762 0.06309806 0.         0.         0.\n",
            " 0.         0.        ]\n"
          ]
        }
      ],
      "source": [
        "scaled_train, scaled_test = scale_train_test_data(Train, Test, scaling_type='minmax')\n",
        "print(\"Scaled Train Data:\", scaled_train[:20])\n",
        "print()\n",
        "print(\"Scaled Test Data:\", scaled_test[:20])"
      ]
    },
    {
      "attachments": {},
      "cell_type": "markdown",
      "metadata": {
        "id": "WvHN9Xe1hexH"
      },
      "source": [
        "## Preparing the X_train, X_test, y_train and y_test"
      ]
    },
    {
      "cell_type": "code",
      "execution_count": 67,
      "metadata": {
        "id": "BPQdMYSjiXkz"
      },
      "outputs": [],
      "source": [
        "window_size = 14 # Set the sequence length - this is the timeframe used to make a single prediction\n",
        "num_outputs = 1\n",
        "X_train, y_train = prepare_rnn_data(scaled_train, window_size, num_outputs)\n",
        "X_test, y_test = prepare_rnn_data(scaled_test, window_size, num_outputs)"
      ]
    },
    {
      "cell_type": "code",
      "execution_count": 68,
      "metadata": {
        "colab": {
          "base_uri": "https://localhost:8080/"
        },
        "id": "00wqMx18hrBu",
        "outputId": "2a128524-763a-4ec3-c352-2cf21d1583b9"
      },
      "outputs": [
        {
          "name": "stdout",
          "output_type": "stream",
          "text": [
            "0.40744994547718755\n",
            "0.0\n"
          ]
        }
      ],
      "source": [
        "# Validate that the prediction value and the input match up\n",
        "# The last close price of the second input sample should equal the first prediction value\n",
        "# Prediction Index\n",
        "print(X_train[window_size][0])\n",
        "print(y_train[0])"
      ]
    },
    {
      "cell_type": "code",
      "execution_count": 69,
      "metadata": {
        "colab": {
          "base_uri": "https://localhost:8080/"
        },
        "id": "8bn6FWxXihtk",
        "outputId": "c7dce4a9-330e-4bfe-e697-6aa00ec407a0"
      },
      "outputs": [
        {
          "name": "stdout",
          "output_type": "stream",
          "text": [
            "(465, 13) (465,)\n",
            "(108, 13) (108,)\n"
          ]
        }
      ],
      "source": [
        "# Print the shapes: the result is: (rows, training_sequence, features) (prediction value, )\n",
        "print(X_train.shape, y_train.shape)\n",
        "print(X_test.shape, y_test.shape)\n"
      ]
    },
    {
      "cell_type": "code",
      "execution_count": 70,
      "metadata": {
        "id": "cT0hw3LOi3Me"
      },
      "outputs": [],
      "source": [
        "epochs = 500 # Choose the number of training epochs\n",
        "batch_size = 1#5#10 # Choose the batch size for training"
      ]
    },
    {
      "cell_type": "code",
      "execution_count": 71,
      "metadata": {
        "colab": {
          "base_uri": "https://localhost:8080/"
        },
        "id": "VSGKUTxTj_3C",
        "outputId": "b4a016be-fad0-44d7-e77a-d273a1ef9dd1"
      },
      "outputs": [
        {
          "data": {
            "text/plain": [
              "50"
            ]
          },
          "execution_count": 71,
          "metadata": {},
          "output_type": "execute_result"
        }
      ],
      "source": [
        "n_neurons = 50 # X_train.shape[1] * y_train.shape[1]\n",
        "n_neurons"
      ]
    },
    {
      "cell_type": "code",
      "execution_count": 72,
      "metadata": {
        "id": "rHJtNAXlkjDY"
      },
      "outputs": [],
      "source": [
        "time_steps = window_size - 1  # Subtract 1 because the last element of each window is the label\n",
        "input_dim = 1 # Since your input data is of shape (744,) i.e., 1-dimensional\n",
        "output_dim = 1 # Since you want to predict one value for each sequence"
      ]
    },
    {
      "attachments": {},
      "cell_type": "markdown",
      "metadata": {
        "id": "ejHFZA5yNJ08"
      },
      "source": [
        "# LSTM Model"
      ]
    },
    {
      "cell_type": "code",
      "execution_count": 73,
      "metadata": {},
      "outputs": [
        {
          "name": "stdout",
          "output_type": "stream",
          "text": [
            "Requirement already satisfied: optuna-integration in c:\\users\\vinicius\\appdata\\local\\programs\\python\\python310\\lib\\site-packages (3.3.0)\n",
            "Requirement already satisfied: optuna in c:\\users\\vinicius\\appdata\\local\\programs\\python\\python310\\lib\\site-packages (from optuna-integration) (3.3.0)\n",
            "Requirement already satisfied: alembic>=1.5.0 in c:\\users\\vinicius\\appdata\\local\\programs\\python\\python310\\lib\\site-packages (from optuna->optuna-integration) (1.12.0)\n",
            "Requirement already satisfied: cmaes>=0.10.0 in c:\\users\\vinicius\\appdata\\local\\programs\\python\\python310\\lib\\site-packages (from optuna->optuna-integration) (0.10.0)\n",
            "Requirement already satisfied: colorlog in c:\\users\\vinicius\\appdata\\local\\programs\\python\\python310\\lib\\site-packages (from optuna->optuna-integration) (6.7.0)\n",
            "Requirement already satisfied: numpy in c:\\users\\vinicius\\appdata\\local\\programs\\python\\python310\\lib\\site-packages (from optuna->optuna-integration) (1.24.2)\n",
            "Requirement already satisfied: packaging>=20.0 in c:\\users\\vinicius\\appdata\\local\\programs\\python\\python310\\lib\\site-packages (from optuna->optuna-integration) (23.0)\n",
            "Requirement already satisfied: sqlalchemy>=1.3.0 in c:\\users\\vinicius\\appdata\\local\\programs\\python\\python310\\lib\\site-packages (from optuna->optuna-integration) (2.0.20)\n",
            "Requirement already satisfied: tqdm in c:\\users\\vinicius\\appdata\\local\\programs\\python\\python310\\lib\\site-packages (from optuna->optuna-integration) (4.66.1)\n",
            "Requirement already satisfied: PyYAML in c:\\users\\vinicius\\appdata\\local\\programs\\python\\python310\\lib\\site-packages (from optuna->optuna-integration) (6.0)\n",
            "Requirement already satisfied: Mako in c:\\users\\vinicius\\appdata\\local\\programs\\python\\python310\\lib\\site-packages (from alembic>=1.5.0->optuna->optuna-integration) (1.2.4)\n",
            "Requirement already satisfied: typing-extensions>=4 in c:\\users\\vinicius\\appdata\\local\\programs\\python\\python310\\lib\\site-packages (from alembic>=1.5.0->optuna->optuna-integration) (4.4.0)\n",
            "Requirement already satisfied: greenlet!=0.4.17 in c:\\users\\vinicius\\appdata\\local\\programs\\python\\python310\\lib\\site-packages (from sqlalchemy>=1.3.0->optuna->optuna-integration) (2.0.2)\n",
            "Requirement already satisfied: colorama in c:\\users\\vinicius\\appdata\\local\\programs\\python\\python310\\lib\\site-packages (from colorlog->optuna->optuna-integration) (0.4.6)\n",
            "Requirement already satisfied: MarkupSafe>=0.9.2 in c:\\users\\vinicius\\appdata\\local\\programs\\python\\python310\\lib\\site-packages (from Mako->alembic>=1.5.0->optuna->optuna-integration) (2.1.1)\n"
          ]
        }
      ],
      "source": [
        "# pip install optuna\n",
        "!pip install optuna-integration"
      ]
    },
    {
      "cell_type": "code",
      "execution_count": 74,
      "metadata": {},
      "outputs": [],
      "source": [
        "from optuna.integration import TFKerasPruningCallback\n",
        "from tensorflow.keras.optimizers import Adam\n",
        "import pickle"
      ]
    },
    {
      "cell_type": "code",
      "execution_count": 75,
      "metadata": {},
      "outputs": [],
      "source": [
        "# Define a callback to save information\n",
        "class CustomCallback(tf.keras.callbacks.Callback):\n",
        "    def __init__(self, trial):\n",
        "        self.trial = trial\n",
        "        self.best_val_loss = float('inf')\n",
        "        self.best_model = None\n",
        "\n",
        "    def on_epoch_end(self, epoch, logs=None):\n",
        "        val_loss = logs['val_loss']\n",
        "        if val_loss < self.best_val_loss:\n",
        "            self.best_val_loss = val_loss\n",
        "            self.best_model = self.model\n",
        "        self.trial.report(val_loss, step=epoch)\n",
        "        if self.trial.should_prune():\n",
        "            raise optuna.TrialPruned()"
      ]
    },
    {
      "cell_type": "code",
      "execution_count": 76,
      "metadata": {},
      "outputs": [],
      "source": [
        "def objective(trial):\n",
        "    # Define the Optuna search space for hyperparameters\n",
        "    window_size = trial.suggest_int('window_size', 2, 60)  # Adjust the range as needed\n",
        "    batch_size = trial.suggest_int('batch_size', 1, 20)  # Adjust the range as needed\n",
        "    n_lstm_layers = trial.suggest_int('n_lstm_layers', 1, 20)\n",
        "    lstm_units = trial.suggest_int('lstm_units', 32, 256)\n",
        "    learning_rate = trial.suggest_float('learning_rate', 1e-4, 1e-2)\n",
        "\n",
        "\n",
        "    # Set the sequence length - this is the timeframe used to make a single prediction\n",
        "    num_outputs = 1\n",
        "    X_train, y_train = prepare_rnn_data(scaled_train, window_size, num_outputs)\n",
        "    X_test, y_test = prepare_rnn_data(scaled_test, window_size, num_outputs)\n",
        "\n",
        "    time_steps = window_size - 1\n",
        "    \n",
        "    # Create the model with the suggested hyperparameters\n",
        "    model_LSTM = Sequential()\n",
        "    model_LSTM.reset_states()\n",
        "\n",
        "    for _ in range(n_lstm_layers):\n",
        "        model_LSTM.add(Bidirectional(LSTM(lstm_units, input_shape=(time_steps, input_dim), return_sequences=True)))\n",
        "    \n",
        "    model_LSTM.add(Bidirectional(LSTM(lstm_units, return_sequences=False)))\n",
        "    model_LSTM.add(Dense(output_dim))\n",
        "    \n",
        "    # for _ in range(n_lstm_layers):\n",
        "    #     # model_LSTM.add(Bidirectional(LSTM(lstm_units, input_shape=(time_steps, input_dim), return_sequences=True)))\n",
        "    #     model_LSTM.add(Bidirectional(LSTM(lstm_units, input_shape=(time_steps, input_dim), return_sequences=True)))\n",
        "    \n",
        "    # model_LSTM.add(Bidirectional(LSTM(lstm_units, return_sequences=False)))\n",
        "    # model_LSTM.add(Dense(output_dim))\n",
        "    \n",
        "    # Compile the model with the suggested learning rate\n",
        "    model_LSTM.compile(loss='mean_squared_error', optimizer=Adam(learning_rate=learning_rate), metrics=['mean_absolute_error'])\n",
        "\n",
        "    # Create a custom callback for saving information\n",
        "    custom_callback = CustomCallback(trial)\n",
        "    \n",
        "    # Train the model with your data and use the custom callback\n",
        "    history = model_LSTM.fit(X_train, y_train, epochs=epochs, batch_size=batch_size, validation_data=(X_test, y_test), callbacks=[custom_callback], verbose=0)\n",
        "    \n",
        "    # Evaluate the model\n",
        "    val_loss = history.history['val_loss'][-1]\n",
        "    \n",
        "    # Save the model as a pkl file\n",
        "    model_filename = f\"model_layer_unit_{trial.number}.pkl\"\n",
        "    with open(model_filename, 'wb') as model_file:\n",
        "        pickle.dump(model_LSTM, model_file)\n",
        "    \n",
        "    return val_loss\n",
        "\n"
      ]
    },
    {
      "cell_type": "code",
      "execution_count": 77,
      "metadata": {},
      "outputs": [
        {
          "name": "stderr",
          "output_type": "stream",
          "text": [
            "[I 2023-11-06 07:55:36,223] A new study created in memory with name: no-name-7bd23c27-493b-49c3-9969-eb25fd87e535\n"
          ]
        }
      ],
      "source": [
        "# Create an Optuna study\n",
        "study = optuna.create_study(direction='minimize')\n",
        "\n"
      ]
    },
    {
      "cell_type": "code",
      "execution_count": 78,
      "metadata": {},
      "outputs": [
        {
          "name": "stderr",
          "output_type": "stream",
          "text": [
            "[W 2023-11-06 07:55:36,351] Trial 0 failed with parameters: {'window_size': 59, 'batch_size': 8, 'n_lstm_layers': 13, 'lstm_units': 147, 'learning_rate': 0.007317321689501565} because of the following error: ValueError('in user code:\\n\\n    File \"c:\\\\Users\\\\vinicius\\\\AppData\\\\Local\\\\Programs\\\\Python\\\\Python310\\\\lib\\\\site-packages\\\\keras\\\\engine\\\\training.py\", line 1160, in train_function  *\\n        return step_function(self, iterator)\\n    File \"c:\\\\Users\\\\vinicius\\\\AppData\\\\Local\\\\Programs\\\\Python\\\\Python310\\\\lib\\\\site-packages\\\\keras\\\\engine\\\\training.py\", line 1146, in step_function  **\\n        outputs = model.distribute_strategy.run(run_step, args=(data,))\\n    File \"c:\\\\Users\\\\vinicius\\\\AppData\\\\Local\\\\Programs\\\\Python\\\\Python310\\\\lib\\\\site-packages\\\\keras\\\\engine\\\\training.py\", line 1135, in run_step  **\\n        outputs = model.train_step(data)\\n    File \"c:\\\\Users\\\\vinicius\\\\AppData\\\\Local\\\\Programs\\\\Python\\\\Python310\\\\lib\\\\site-packages\\\\keras\\\\engine\\\\training.py\", line 993, in train_step\\n        y_pred = self(x, training=True)\\n    File \"c:\\\\Users\\\\vinicius\\\\AppData\\\\Local\\\\Programs\\\\Python\\\\Python310\\\\lib\\\\site-packages\\\\keras\\\\utils\\\\traceback_utils.py\", line 70, in error_handler\\n        raise e.with_traceback(filtered_tb) from None\\n    File \"c:\\\\Users\\\\vinicius\\\\AppData\\\\Local\\\\Programs\\\\Python\\\\Python310\\\\lib\\\\site-packages\\\\keras\\\\engine\\\\input_spec.py\", line 232, in assert_input_compatibility\\n        raise ValueError(\\n\\n    ValueError: Exception encountered when calling layer \"sequential_2\" \"                 f\"(type Sequential).\\n    \\n    Input 0 of layer \"bidirectional_29\" is incompatible with the layer: expected ndim=3, found ndim=2. Full shape received: (None, 58)\\n    \\n    Call arguments received by layer \"sequential_2\" \"                 f\"(type Sequential):\\n      • inputs=tf.Tensor(shape=(None, 58), dtype=float32)\\n      • training=True\\n      • mask=None\\n').\n",
            "Traceback (most recent call last):\n",
            "  File \"c:\\Users\\vinicius\\AppData\\Local\\Programs\\Python\\Python310\\lib\\site-packages\\optuna\\study\\_optimize.py\", line 200, in _run_trial\n",
            "    value_or_values = func(trial)\n",
            "  File \"C:\\Users\\vinicius\\AppData\\Local\\Temp\\ipykernel_7848\\1119327995.py\", line 35, in objective\n",
            "    history = model_LSTM.fit(X_train, y_train, epochs=epochs, batch_size=batch_size, validation_data=(X_test, y_test), callbacks=[custom_callback], verbose=0)\n",
            "  File \"c:\\Users\\vinicius\\AppData\\Local\\Programs\\Python\\Python310\\lib\\site-packages\\keras\\utils\\traceback_utils.py\", line 70, in error_handler\n",
            "    raise e.with_traceback(filtered_tb) from None\n",
            "  File \"C:\\Users\\vinicius\\AppData\\Local\\Temp\\__autograph_generated_filewgqxyzfv.py\", line 15, in tf__train_function\n",
            "    retval_ = ag__.converted_call(ag__.ld(step_function), (ag__.ld(self), ag__.ld(iterator)), None, fscope)\n",
            "ValueError: in user code:\n",
            "\n",
            "    File \"c:\\Users\\vinicius\\AppData\\Local\\Programs\\Python\\Python310\\lib\\site-packages\\keras\\engine\\training.py\", line 1160, in train_function  *\n",
            "        return step_function(self, iterator)\n",
            "    File \"c:\\Users\\vinicius\\AppData\\Local\\Programs\\Python\\Python310\\lib\\site-packages\\keras\\engine\\training.py\", line 1146, in step_function  **\n",
            "        outputs = model.distribute_strategy.run(run_step, args=(data,))\n",
            "    File \"c:\\Users\\vinicius\\AppData\\Local\\Programs\\Python\\Python310\\lib\\site-packages\\keras\\engine\\training.py\", line 1135, in run_step  **\n",
            "        outputs = model.train_step(data)\n",
            "    File \"c:\\Users\\vinicius\\AppData\\Local\\Programs\\Python\\Python310\\lib\\site-packages\\keras\\engine\\training.py\", line 993, in train_step\n",
            "        y_pred = self(x, training=True)\n",
            "    File \"c:\\Users\\vinicius\\AppData\\Local\\Programs\\Python\\Python310\\lib\\site-packages\\keras\\utils\\traceback_utils.py\", line 70, in error_handler\n",
            "        raise e.with_traceback(filtered_tb) from None\n",
            "    File \"c:\\Users\\vinicius\\AppData\\Local\\Programs\\Python\\Python310\\lib\\site-packages\\keras\\engine\\input_spec.py\", line 232, in assert_input_compatibility\n",
            "        raise ValueError(\n",
            "\n",
            "    ValueError: Exception encountered when calling layer \"sequential_2\" \"                 f\"(type Sequential).\n",
            "    \n",
            "    Input 0 of layer \"bidirectional_29\" is incompatible with the layer: expected ndim=3, found ndim=2. Full shape received: (None, 58)\n",
            "    \n",
            "    Call arguments received by layer \"sequential_2\" \"                 f\"(type Sequential):\n",
            "      • inputs=tf.Tensor(shape=(None, 58), dtype=float32)\n",
            "      • training=True\n",
            "      • mask=None\n",
            "\n",
            "[W 2023-11-06 07:55:36,351] Trial 0 failed with value None.\n"
          ]
        },
        {
          "ename": "ValueError",
          "evalue": "in user code:\n\n    File \"c:\\Users\\vinicius\\AppData\\Local\\Programs\\Python\\Python310\\lib\\site-packages\\keras\\engine\\training.py\", line 1160, in train_function  *\n        return step_function(self, iterator)\n    File \"c:\\Users\\vinicius\\AppData\\Local\\Programs\\Python\\Python310\\lib\\site-packages\\keras\\engine\\training.py\", line 1146, in step_function  **\n        outputs = model.distribute_strategy.run(run_step, args=(data,))\n    File \"c:\\Users\\vinicius\\AppData\\Local\\Programs\\Python\\Python310\\lib\\site-packages\\keras\\engine\\training.py\", line 1135, in run_step  **\n        outputs = model.train_step(data)\n    File \"c:\\Users\\vinicius\\AppData\\Local\\Programs\\Python\\Python310\\lib\\site-packages\\keras\\engine\\training.py\", line 993, in train_step\n        y_pred = self(x, training=True)\n    File \"c:\\Users\\vinicius\\AppData\\Local\\Programs\\Python\\Python310\\lib\\site-packages\\keras\\utils\\traceback_utils.py\", line 70, in error_handler\n        raise e.with_traceback(filtered_tb) from None\n    File \"c:\\Users\\vinicius\\AppData\\Local\\Programs\\Python\\Python310\\lib\\site-packages\\keras\\engine\\input_spec.py\", line 232, in assert_input_compatibility\n        raise ValueError(\n\n    ValueError: Exception encountered when calling layer \"sequential_2\" \"                 f\"(type Sequential).\n    \n    Input 0 of layer \"bidirectional_29\" is incompatible with the layer: expected ndim=3, found ndim=2. Full shape received: (None, 58)\n    \n    Call arguments received by layer \"sequential_2\" \"                 f\"(type Sequential):\n      • inputs=tf.Tensor(shape=(None, 58), dtype=float32)\n      • training=True\n      • mask=None\n",
          "output_type": "error",
          "traceback": [
            "\u001b[1;31m---------------------------------------------------------------------------\u001b[0m",
            "\u001b[1;31mValueError\u001b[0m                                Traceback (most recent call last)",
            "\u001b[1;32mc:\\Users\\vinicius\\Documents\\Repositorios\\TimeSeriesPredictionFinalProject\\Optuna_univariada_prev_oleo_layer_unit_epoch_learn_window_BI_LSTM\\Optuna_LSTM_Univariada_prev_oleo.ipynb Cell 34\u001b[0m line \u001b[0;36m2\n\u001b[0;32m      <a href='vscode-notebook-cell:/c%3A/Users/vinicius/Documents/Repositorios/TimeSeriesPredictionFinalProject/Optuna_univariada_prev_oleo_layer_unit_epoch_learn_window_BI_LSTM/Optuna_LSTM_Univariada_prev_oleo.ipynb#X45sZmlsZQ%3D%3D?line=0'>1</a>\u001b[0m \u001b[39m# Optimize the model using Optuna\u001b[39;00m\n\u001b[1;32m----> <a href='vscode-notebook-cell:/c%3A/Users/vinicius/Documents/Repositorios/TimeSeriesPredictionFinalProject/Optuna_univariada_prev_oleo_layer_unit_epoch_learn_window_BI_LSTM/Optuna_LSTM_Univariada_prev_oleo.ipynb#X45sZmlsZQ%3D%3D?line=1'>2</a>\u001b[0m study\u001b[39m.\u001b[39;49moptimize(objective, n_trials\u001b[39m=\u001b[39;49m\u001b[39m250\u001b[39;49m)\n",
            "File \u001b[1;32mc:\\Users\\vinicius\\AppData\\Local\\Programs\\Python\\Python310\\lib\\site-packages\\optuna\\study\\study.py:442\u001b[0m, in \u001b[0;36mStudy.optimize\u001b[1;34m(self, func, n_trials, timeout, n_jobs, catch, callbacks, gc_after_trial, show_progress_bar)\u001b[0m\n\u001b[0;32m    339\u001b[0m \u001b[39mdef\u001b[39;00m \u001b[39moptimize\u001b[39m(\n\u001b[0;32m    340\u001b[0m     \u001b[39mself\u001b[39m,\n\u001b[0;32m    341\u001b[0m     func: ObjectiveFuncType,\n\u001b[1;32m   (...)\u001b[0m\n\u001b[0;32m    348\u001b[0m     show_progress_bar: \u001b[39mbool\u001b[39m \u001b[39m=\u001b[39m \u001b[39mFalse\u001b[39;00m,\n\u001b[0;32m    349\u001b[0m ) \u001b[39m-\u001b[39m\u001b[39m>\u001b[39m \u001b[39mNone\u001b[39;00m:\n\u001b[0;32m    350\u001b[0m     \u001b[39m\"\"\"Optimize an objective function.\u001b[39;00m\n\u001b[0;32m    351\u001b[0m \n\u001b[0;32m    352\u001b[0m \u001b[39m    Optimization is done by choosing a suitable set of hyperparameter values from a given\u001b[39;00m\n\u001b[1;32m   (...)\u001b[0m\n\u001b[0;32m    440\u001b[0m \u001b[39m            If nested invocation of this method occurs.\u001b[39;00m\n\u001b[0;32m    441\u001b[0m \u001b[39m    \"\"\"\u001b[39;00m\n\u001b[1;32m--> 442\u001b[0m     _optimize(\n\u001b[0;32m    443\u001b[0m         study\u001b[39m=\u001b[39;49m\u001b[39mself\u001b[39;49m,\n\u001b[0;32m    444\u001b[0m         func\u001b[39m=\u001b[39;49mfunc,\n\u001b[0;32m    445\u001b[0m         n_trials\u001b[39m=\u001b[39;49mn_trials,\n\u001b[0;32m    446\u001b[0m         timeout\u001b[39m=\u001b[39;49mtimeout,\n\u001b[0;32m    447\u001b[0m         n_jobs\u001b[39m=\u001b[39;49mn_jobs,\n\u001b[0;32m    448\u001b[0m         catch\u001b[39m=\u001b[39;49m\u001b[39mtuple\u001b[39;49m(catch) \u001b[39mif\u001b[39;49;00m \u001b[39misinstance\u001b[39;49m(catch, Iterable) \u001b[39melse\u001b[39;49;00m (catch,),\n\u001b[0;32m    449\u001b[0m         callbacks\u001b[39m=\u001b[39;49mcallbacks,\n\u001b[0;32m    450\u001b[0m         gc_after_trial\u001b[39m=\u001b[39;49mgc_after_trial,\n\u001b[0;32m    451\u001b[0m         show_progress_bar\u001b[39m=\u001b[39;49mshow_progress_bar,\n\u001b[0;32m    452\u001b[0m     )\n",
            "File \u001b[1;32mc:\\Users\\vinicius\\AppData\\Local\\Programs\\Python\\Python310\\lib\\site-packages\\optuna\\study\\_optimize.py:66\u001b[0m, in \u001b[0;36m_optimize\u001b[1;34m(study, func, n_trials, timeout, n_jobs, catch, callbacks, gc_after_trial, show_progress_bar)\u001b[0m\n\u001b[0;32m     64\u001b[0m \u001b[39mtry\u001b[39;00m:\n\u001b[0;32m     65\u001b[0m     \u001b[39mif\u001b[39;00m n_jobs \u001b[39m==\u001b[39m \u001b[39m1\u001b[39m:\n\u001b[1;32m---> 66\u001b[0m         _optimize_sequential(\n\u001b[0;32m     67\u001b[0m             study,\n\u001b[0;32m     68\u001b[0m             func,\n\u001b[0;32m     69\u001b[0m             n_trials,\n\u001b[0;32m     70\u001b[0m             timeout,\n\u001b[0;32m     71\u001b[0m             catch,\n\u001b[0;32m     72\u001b[0m             callbacks,\n\u001b[0;32m     73\u001b[0m             gc_after_trial,\n\u001b[0;32m     74\u001b[0m             reseed_sampler_rng\u001b[39m=\u001b[39;49m\u001b[39mFalse\u001b[39;49;00m,\n\u001b[0;32m     75\u001b[0m             time_start\u001b[39m=\u001b[39;49m\u001b[39mNone\u001b[39;49;00m,\n\u001b[0;32m     76\u001b[0m             progress_bar\u001b[39m=\u001b[39;49mprogress_bar,\n\u001b[0;32m     77\u001b[0m         )\n\u001b[0;32m     78\u001b[0m     \u001b[39melse\u001b[39;00m:\n\u001b[0;32m     79\u001b[0m         \u001b[39mif\u001b[39;00m n_jobs \u001b[39m==\u001b[39m \u001b[39m-\u001b[39m\u001b[39m1\u001b[39m:\n",
            "File \u001b[1;32mc:\\Users\\vinicius\\AppData\\Local\\Programs\\Python\\Python310\\lib\\site-packages\\optuna\\study\\_optimize.py:163\u001b[0m, in \u001b[0;36m_optimize_sequential\u001b[1;34m(study, func, n_trials, timeout, catch, callbacks, gc_after_trial, reseed_sampler_rng, time_start, progress_bar)\u001b[0m\n\u001b[0;32m    160\u001b[0m         \u001b[39mbreak\u001b[39;00m\n\u001b[0;32m    162\u001b[0m \u001b[39mtry\u001b[39;00m:\n\u001b[1;32m--> 163\u001b[0m     frozen_trial \u001b[39m=\u001b[39m _run_trial(study, func, catch)\n\u001b[0;32m    164\u001b[0m \u001b[39mfinally\u001b[39;00m:\n\u001b[0;32m    165\u001b[0m     \u001b[39m# The following line mitigates memory problems that can be occurred in some\u001b[39;00m\n\u001b[0;32m    166\u001b[0m     \u001b[39m# environments (e.g., services that use computing containers such as GitHub Actions).\u001b[39;00m\n\u001b[0;32m    167\u001b[0m     \u001b[39m# Please refer to the following PR for further details:\u001b[39;00m\n\u001b[0;32m    168\u001b[0m     \u001b[39m# https://github.com/optuna/optuna/pull/325.\u001b[39;00m\n\u001b[0;32m    169\u001b[0m     \u001b[39mif\u001b[39;00m gc_after_trial:\n",
            "File \u001b[1;32mc:\\Users\\vinicius\\AppData\\Local\\Programs\\Python\\Python310\\lib\\site-packages\\optuna\\study\\_optimize.py:251\u001b[0m, in \u001b[0;36m_run_trial\u001b[1;34m(study, func, catch)\u001b[0m\n\u001b[0;32m    244\u001b[0m         \u001b[39massert\u001b[39;00m \u001b[39mFalse\u001b[39;00m, \u001b[39m\"\u001b[39m\u001b[39mShould not reach.\u001b[39m\u001b[39m\"\u001b[39m\n\u001b[0;32m    246\u001b[0m \u001b[39mif\u001b[39;00m (\n\u001b[0;32m    247\u001b[0m     frozen_trial\u001b[39m.\u001b[39mstate \u001b[39m==\u001b[39m TrialState\u001b[39m.\u001b[39mFAIL\n\u001b[0;32m    248\u001b[0m     \u001b[39mand\u001b[39;00m func_err \u001b[39mis\u001b[39;00m \u001b[39mnot\u001b[39;00m \u001b[39mNone\u001b[39;00m\n\u001b[0;32m    249\u001b[0m     \u001b[39mand\u001b[39;00m \u001b[39mnot\u001b[39;00m \u001b[39misinstance\u001b[39m(func_err, catch)\n\u001b[0;32m    250\u001b[0m ):\n\u001b[1;32m--> 251\u001b[0m     \u001b[39mraise\u001b[39;00m func_err\n\u001b[0;32m    252\u001b[0m \u001b[39mreturn\u001b[39;00m frozen_trial\n",
            "File \u001b[1;32mc:\\Users\\vinicius\\AppData\\Local\\Programs\\Python\\Python310\\lib\\site-packages\\optuna\\study\\_optimize.py:200\u001b[0m, in \u001b[0;36m_run_trial\u001b[1;34m(study, func, catch)\u001b[0m\n\u001b[0;32m    198\u001b[0m \u001b[39mwith\u001b[39;00m get_heartbeat_thread(trial\u001b[39m.\u001b[39m_trial_id, study\u001b[39m.\u001b[39m_storage):\n\u001b[0;32m    199\u001b[0m     \u001b[39mtry\u001b[39;00m:\n\u001b[1;32m--> 200\u001b[0m         value_or_values \u001b[39m=\u001b[39m func(trial)\n\u001b[0;32m    201\u001b[0m     \u001b[39mexcept\u001b[39;00m exceptions\u001b[39m.\u001b[39mTrialPruned \u001b[39mas\u001b[39;00m e:\n\u001b[0;32m    202\u001b[0m         \u001b[39m# TODO(mamu): Handle multi-objective cases.\u001b[39;00m\n\u001b[0;32m    203\u001b[0m         state \u001b[39m=\u001b[39m TrialState\u001b[39m.\u001b[39mPRUNED\n",
            "\u001b[1;32mc:\\Users\\vinicius\\Documents\\Repositorios\\TimeSeriesPredictionFinalProject\\Optuna_univariada_prev_oleo_layer_unit_epoch_learn_window_BI_LSTM\\Optuna_LSTM_Univariada_prev_oleo.ipynb Cell 34\u001b[0m line \u001b[0;36m3\n\u001b[0;32m     <a href='vscode-notebook-cell:/c%3A/Users/vinicius/Documents/Repositorios/TimeSeriesPredictionFinalProject/Optuna_univariada_prev_oleo_layer_unit_epoch_learn_window_BI_LSTM/Optuna_LSTM_Univariada_prev_oleo.ipynb#X45sZmlsZQ%3D%3D?line=31'>32</a>\u001b[0m custom_callback \u001b[39m=\u001b[39m CustomCallback(trial)\n\u001b[0;32m     <a href='vscode-notebook-cell:/c%3A/Users/vinicius/Documents/Repositorios/TimeSeriesPredictionFinalProject/Optuna_univariada_prev_oleo_layer_unit_epoch_learn_window_BI_LSTM/Optuna_LSTM_Univariada_prev_oleo.ipynb#X45sZmlsZQ%3D%3D?line=33'>34</a>\u001b[0m \u001b[39m# Train the model with your data and use the custom callback\u001b[39;00m\n\u001b[1;32m---> <a href='vscode-notebook-cell:/c%3A/Users/vinicius/Documents/Repositorios/TimeSeriesPredictionFinalProject/Optuna_univariada_prev_oleo_layer_unit_epoch_learn_window_BI_LSTM/Optuna_LSTM_Univariada_prev_oleo.ipynb#X45sZmlsZQ%3D%3D?line=34'>35</a>\u001b[0m history \u001b[39m=\u001b[39m model_LSTM\u001b[39m.\u001b[39;49mfit(X_train, y_train, epochs\u001b[39m=\u001b[39;49mepochs, batch_size\u001b[39m=\u001b[39;49mbatch_size, validation_data\u001b[39m=\u001b[39;49m(X_test, y_test), callbacks\u001b[39m=\u001b[39;49m[custom_callback], verbose\u001b[39m=\u001b[39;49m\u001b[39m0\u001b[39;49m)\n\u001b[0;32m     <a href='vscode-notebook-cell:/c%3A/Users/vinicius/Documents/Repositorios/TimeSeriesPredictionFinalProject/Optuna_univariada_prev_oleo_layer_unit_epoch_learn_window_BI_LSTM/Optuna_LSTM_Univariada_prev_oleo.ipynb#X45sZmlsZQ%3D%3D?line=36'>37</a>\u001b[0m \u001b[39m# Evaluate the model\u001b[39;00m\n\u001b[0;32m     <a href='vscode-notebook-cell:/c%3A/Users/vinicius/Documents/Repositorios/TimeSeriesPredictionFinalProject/Optuna_univariada_prev_oleo_layer_unit_epoch_learn_window_BI_LSTM/Optuna_LSTM_Univariada_prev_oleo.ipynb#X45sZmlsZQ%3D%3D?line=37'>38</a>\u001b[0m val_loss \u001b[39m=\u001b[39m history\u001b[39m.\u001b[39mhistory[\u001b[39m'\u001b[39m\u001b[39mval_loss\u001b[39m\u001b[39m'\u001b[39m][\u001b[39m-\u001b[39m\u001b[39m1\u001b[39m]\n",
            "File \u001b[1;32mc:\\Users\\vinicius\\AppData\\Local\\Programs\\Python\\Python310\\lib\\site-packages\\keras\\utils\\traceback_utils.py:70\u001b[0m, in \u001b[0;36mfilter_traceback.<locals>.error_handler\u001b[1;34m(*args, **kwargs)\u001b[0m\n\u001b[0;32m     67\u001b[0m     filtered_tb \u001b[39m=\u001b[39m _process_traceback_frames(e\u001b[39m.\u001b[39m__traceback__)\n\u001b[0;32m     68\u001b[0m     \u001b[39m# To get the full stack trace, call:\u001b[39;00m\n\u001b[0;32m     69\u001b[0m     \u001b[39m# `tf.debugging.disable_traceback_filtering()`\u001b[39;00m\n\u001b[1;32m---> 70\u001b[0m     \u001b[39mraise\u001b[39;00m e\u001b[39m.\u001b[39mwith_traceback(filtered_tb) \u001b[39mfrom\u001b[39;00m \u001b[39mNone\u001b[39m\n\u001b[0;32m     71\u001b[0m \u001b[39mfinally\u001b[39;00m:\n\u001b[0;32m     72\u001b[0m     \u001b[39mdel\u001b[39;00m filtered_tb\n",
            "File \u001b[1;32m~\\AppData\\Local\\Temp\\__autograph_generated_filewgqxyzfv.py:15\u001b[0m, in \u001b[0;36mouter_factory.<locals>.inner_factory.<locals>.tf__train_function\u001b[1;34m(iterator)\u001b[0m\n\u001b[0;32m     13\u001b[0m \u001b[39mtry\u001b[39;00m:\n\u001b[0;32m     14\u001b[0m     do_return \u001b[39m=\u001b[39m \u001b[39mTrue\u001b[39;00m\n\u001b[1;32m---> 15\u001b[0m     retval_ \u001b[39m=\u001b[39m ag__\u001b[39m.\u001b[39mconverted_call(ag__\u001b[39m.\u001b[39mld(step_function), (ag__\u001b[39m.\u001b[39mld(\u001b[39mself\u001b[39m), ag__\u001b[39m.\u001b[39mld(iterator)), \u001b[39mNone\u001b[39;00m, fscope)\n\u001b[0;32m     16\u001b[0m \u001b[39mexcept\u001b[39;00m:\n\u001b[0;32m     17\u001b[0m     do_return \u001b[39m=\u001b[39m \u001b[39mFalse\u001b[39;00m\n",
            "\u001b[1;31mValueError\u001b[0m: in user code:\n\n    File \"c:\\Users\\vinicius\\AppData\\Local\\Programs\\Python\\Python310\\lib\\site-packages\\keras\\engine\\training.py\", line 1160, in train_function  *\n        return step_function(self, iterator)\n    File \"c:\\Users\\vinicius\\AppData\\Local\\Programs\\Python\\Python310\\lib\\site-packages\\keras\\engine\\training.py\", line 1146, in step_function  **\n        outputs = model.distribute_strategy.run(run_step, args=(data,))\n    File \"c:\\Users\\vinicius\\AppData\\Local\\Programs\\Python\\Python310\\lib\\site-packages\\keras\\engine\\training.py\", line 1135, in run_step  **\n        outputs = model.train_step(data)\n    File \"c:\\Users\\vinicius\\AppData\\Local\\Programs\\Python\\Python310\\lib\\site-packages\\keras\\engine\\training.py\", line 993, in train_step\n        y_pred = self(x, training=True)\n    File \"c:\\Users\\vinicius\\AppData\\Local\\Programs\\Python\\Python310\\lib\\site-packages\\keras\\utils\\traceback_utils.py\", line 70, in error_handler\n        raise e.with_traceback(filtered_tb) from None\n    File \"c:\\Users\\vinicius\\AppData\\Local\\Programs\\Python\\Python310\\lib\\site-packages\\keras\\engine\\input_spec.py\", line 232, in assert_input_compatibility\n        raise ValueError(\n\n    ValueError: Exception encountered when calling layer \"sequential_2\" \"                 f\"(type Sequential).\n    \n    Input 0 of layer \"bidirectional_29\" is incompatible with the layer: expected ndim=3, found ndim=2. Full shape received: (None, 58)\n    \n    Call arguments received by layer \"sequential_2\" \"                 f\"(type Sequential):\n      • inputs=tf.Tensor(shape=(None, 58), dtype=float32)\n      • training=True\n      • mask=None\n"
          ]
        }
      ],
      "source": [
        "# Optimize the model using Optuna\n",
        "study.optimize(objective, n_trials=250)\n",
        "\n"
      ]
    },
    {
      "cell_type": "code",
      "execution_count": null,
      "metadata": {},
      "outputs": [],
      "source": [
        "# Get the best hyperparameters\n",
        "best_params = study.best_params\n",
        "best_loss = study.best_value\n",
        "\n",
        "print(\"Best Hyperparameters:\", best_params)\n",
        "print(\"Best Validation Loss:\", best_loss)"
      ]
    },
    {
      "cell_type": "code",
      "execution_count": null,
      "metadata": {},
      "outputs": [],
      "source": [
        "study.best_params['n_lstm_layers']"
      ]
    },
    {
      "cell_type": "code",
      "execution_count": null,
      "metadata": {},
      "outputs": [],
      "source": [
        "study.best_trial.number"
      ]
    },
    {
      "cell_type": "code",
      "execution_count": null,
      "metadata": {},
      "outputs": [],
      "source": [
        "lstm_units = study.best_params['lstm_units']#trial.suggest_int('lstm_units', 32, 256)\n",
        "learning_rate = study.best_params['learning_rate']#trial.suggest_float('learning_rate', 1e-4, 1e-2)\n",
        "\n",
        "# Define the Optuna search space for hyperparameters\n",
        "window_size = study.best_params['window_size']  # Adjust the range as needed\n",
        "batch_size = study.best_params['batch_size']  # Adjust the range as needed\n",
        "n_lstm_layers = study.best_params['n_lstm_layers']\n",
        "lstm_units = study.best_params['lstm_units']\n",
        "learning_rate = study.best_params['learning_rate']\n",
        "\n",
        "\n",
        "# Set the sequence length - this is the timeframe used to make a single prediction\n",
        "num_outputs = 1\n",
        "X_train, y_train = prepare_rnn_data(scaled_train, window_size, num_outputs)\n",
        "X_test, y_test = prepare_rnn_data(scaled_test, window_size, num_outputs)\n",
        "\n",
        "time_steps = window_size - 1\n",
        "\n",
        "\n",
        "\n",
        "best_model_LSTM = Sequential()\n",
        "best_model_LSTM.reset_states()\n",
        "    \n",
        "for _ in range(study.best_params['n_lstm_layers']):\n",
        "    best_model_LSTM.add(Bidirectional(LSTM(lstm_units, input_shape=(time_steps, input_dim), return_sequences=True)))\n",
        "    \n",
        "best_model_LSTM.add(Bidirectional(LSTM(lstm_units, return_sequences=False)))\n",
        "best_model_LSTM.add(Dense(output_dim))\n",
        "\n",
        "# Compile the model with the suggested learning rate\n",
        "best_model_LSTM.compile(loss='mean_squared_error', optimizer=Adam(learning_rate=learning_rate), metrics=['mean_absolute_error'])\n",
        "\n",
        "    \n",
        "# Train the model with your data and use the custom callback\n",
        "history = best_model_LSTM.fit(X_train, y_train, epochs=epochs, batch_size=batch_size, validation_data=(X_test, y_test), verbose=0)\n",
        "    \n",
        "# Evaluate the model\n",
        "train_loss_history_LSTM = history.history['loss']"
      ]
    },
    {
      "cell_type": "code",
      "execution_count": null,
      "metadata": {},
      "outputs": [],
      "source": [
        "# Make predictions using the testing data\n",
        "y_train_pred_LSTM = best_model_LSTM.predict(X_train)\n",
        "y_test_pred_LSTM = best_model_LSTM.predict(X_test)"
      ]
    },
    {
      "cell_type": "code",
      "execution_count": null,
      "metadata": {},
      "outputs": [],
      "source": [
        "# Calculate Mean Squared Error (MSE)\n",
        "train_mse_LSTM = mean_squared_error(y_train, y_train_pred_LSTM)\n",
        "test_mse_LSTM = mean_squared_error(y_test, y_test_pred_LSTM)\n",
        "print(\"Train MSE:\", train_mse_LSTM)\n",
        "print(\"Test MSE:\", test_mse_LSTM)"
      ]
    },
    {
      "cell_type": "code",
      "execution_count": null,
      "metadata": {},
      "outputs": [],
      "source": [
        "plot_result_graphs(train_loss_history_LSTM, y_train, y_train_pred_LSTM, y_test, y_test_pred_LSTM)"
      ]
    },
    {
      "cell_type": "code",
      "execution_count": null,
      "metadata": {},
      "outputs": [],
      "source": [
        "# Extract the validation losses for all trials\n",
        "val_losses = [trial.value for trial in study.trials]\n",
        "# Create a plot of validation losses\n",
        "plt.plot(val_losses, marker='o')\n",
        "plt.xlabel('Trials')\n",
        "plt.ylabel('Validation Loss')\n",
        "plt.title('Optimization Process')\n",
        "plt.grid(True)\n",
        "plt.show()"
      ]
    },
    {
      "cell_type": "code",
      "execution_count": null,
      "metadata": {},
      "outputs": [],
      "source": [
        "# Plot the graphs\n",
        "plot_result_graphs(val_losses, y_train, y_train_pred_LSTM, y_test, y_test_pred_LSTM)"
      ]
    },
    {
      "cell_type": "markdown",
      "metadata": {},
      "source": [
        "### Agora vamos criar o modelo com a melhor solução"
      ]
    },
    {
      "cell_type": "code",
      "execution_count": null,
      "metadata": {},
      "outputs": [],
      "source": []
    },
    {
      "cell_type": "code",
      "execution_count": null,
      "metadata": {
        "id": "tV2OVrSBxhAY"
      },
      "outputs": [],
      "source": [
        "# model_LSTM = Sequential()\n",
        "# model_LSTM.reset_states()\n",
        "# # model_LSTM.add(LSTM(n_neurons, input_shape=(time_steps, input_dim)))\n",
        "# model_LSTM.add(LSTM(n_neurons, input_shape=(time_steps, input_dim), return_sequences=True))\n",
        "# # model_LSTM.add(Dropout(0.2))  # Add dropout with a certain rate (e.g., 20%)\n",
        "# model_LSTM.add(LSTM(n_neurons, return_sequences=True))\n",
        "# model_LSTM.add(Dropout(0.2))  # Add dropout with a certain rate (e.g., 20%)\n",
        "# model_LSTM.add(LSTM(n_neurons, return_sequences=True))\n",
        "# model_LSTM.add(LSTM(n_neurons, return_sequences=False))\n",
        "# model_LSTM.add(Dense(output_dim))\n",
        "# model_LSTM.compile(loss='mean_squared_error', optimizer='adam', metrics=['mean_absolute_error'])"
      ]
    },
    {
      "cell_type": "code",
      "execution_count": null,
      "metadata": {
        "colab": {
          "base_uri": "https://localhost:8080/"
        },
        "id": "HlF5babjNcZt",
        "outputId": "d4e7a1c0-a803-4d56-ec8e-70d2f6022703"
      },
      "outputs": [],
      "source": [
        "# # Train the model\n",
        "# history_LSTM = model_LSTM.fit(X_train, y_train, batch_size=batch_size, epochs=epochs)\n",
        "# train_loss_history_LSTM = history_LSTM.history['loss']"
      ]
    },
    {
      "cell_type": "code",
      "execution_count": null,
      "metadata": {
        "colab": {
          "base_uri": "https://localhost:8080/"
        },
        "id": "aNQx4U8ONh7M",
        "outputId": "b2f5e33a-145f-4f5b-ad79-fd8e9ee6d851"
      },
      "outputs": [],
      "source": [
        "# # Make predictions using the testing data\n",
        "# y_train_pred_LSTM = model_LSTM.predict(X_train)\n",
        "# y_test_pred_LSTM = model_LSTM.predict(X_test)"
      ]
    },
    {
      "cell_type": "code",
      "execution_count": null,
      "metadata": {
        "colab": {
          "base_uri": "https://localhost:8080/"
        },
        "id": "LZCpUv2WNoHe",
        "outputId": "ef58d34f-4732-4749-b9c9-76125f4f888c"
      },
      "outputs": [],
      "source": [
        "# # Calculate Mean Squared Error (MSE)\n",
        "# train_mse_LSTM = mean_squared_error(y_train, y_train_pred_LSTM)\n",
        "# test_mse_LSTM = mean_squared_error(y_test, y_test_pred_LSTM)\n",
        "# print(\"Train MSE:\", train_mse_LSTM)\n",
        "# print(\"Test MSE:\", test_mse_LSTM)"
      ]
    },
    {
      "cell_type": "code",
      "execution_count": null,
      "metadata": {
        "colab": {
          "base_uri": "https://localhost:8080/",
          "height": 1000
        },
        "id": "bok5WfwyNvoH",
        "outputId": "9a23cb96-94df-477b-81ba-70abb0f8dcd5"
      },
      "outputs": [],
      "source": [
        "# # Plot the graphs\n",
        "# plot_result_graphs(train_loss_history_LSTM, y_train, y_train_pred_LSTM, y_test, y_test_pred_LSTM)"
      ]
    },
    {
      "attachments": {},
      "cell_type": "markdown",
      "metadata": {
        "id": "c_1g44WycTBI"
      },
      "source": [
        "## Plot dos modelos"
      ]
    },
    {
      "cell_type": "code",
      "execution_count": null,
      "metadata": {
        "colab": {
          "background_save": true,
          "base_uri": "https://localhost:8080/"
        },
        "id": "Vry2-vvnNzsu",
        "outputId": "77d7d421-faed-4ca8-d8e6-0a554d38376c"
      },
      "outputs": [],
      "source": [
        "# from keras.utils.vis_utils import plot_model\n"
      ]
    },
    {
      "cell_type": "code",
      "execution_count": null,
      "metadata": {
        "colab": {
          "background_save": true,
          "base_uri": "https://localhost:8080/"
        },
        "id": "q3d5_T5icaxJ",
        "outputId": "0f736f53-47d0-4019-a23f-91447349a507"
      },
      "outputs": [],
      "source": [
        "# plot_model(model_LSTM)"
      ]
    },
    {
      "cell_type": "code",
      "execution_count": null,
      "metadata": {
        "id": "2ax4-Pcwcb5t"
      },
      "outputs": [],
      "source": [
        "class GroundTruthPreviousValue:\n",
        "    def generate_data(self, input_data):\n",
        "        num_samples = len(input_data)\n",
        "        output_data = np.zeros(num_samples)\n",
        "\n",
        "        for i in range(1, num_samples):\n",
        "            output_data[i] = input_data[i - 1]\n",
        "\n",
        "        return output_data"
      ]
    },
    {
      "cell_type": "code",
      "execution_count": null,
      "metadata": {
        "id": "xZSI1AnG5p7o"
      },
      "outputs": [],
      "source": [
        "ground_truth_model_previous_value = GroundTruthPreviousValue()\n",
        "# Generate the ground truth data using the previous value approach for both training and test datasets\n",
        "ground_truth_data_train_previous_value = ground_truth_model_previous_value.generate_data(y_train)\n",
        "ground_truth_data_test_previous_value = ground_truth_model_previous_value.generate_data(y_test)"
      ]
    },
    {
      "cell_type": "code",
      "execution_count": null,
      "metadata": {
        "colab": {
          "base_uri": "https://localhost:8080/"
        },
        "id": "59nKrVZ85xT3",
        "outputId": "dbc2b7ec-2e82-4eb4-cf98-dbbf71ed8e0b"
      },
      "outputs": [],
      "source": [
        "# Calculate MSE for GroundTruthPreviousValue\n",
        "mse_train_previous_value = mean_squared_error(ground_truth_data_train_previous_value, y_train)\n",
        "mse_test_previous_value = mean_squared_error(ground_truth_data_test_previous_value, y_test)\n",
        "\n",
        "print(\"Ground Truth Previous Value:\")\n",
        "print(f\"Train MSE: {mse_train_previous_value}\")\n",
        "print(f\"Test MSE: {mse_test_previous_value}\")"
      ]
    },
    {
      "cell_type": "code",
      "execution_count": null,
      "metadata": {
        "id": "0ayijrSI52x2"
      },
      "outputs": [],
      "source": [
        "import pandas as pd\n",
        "\n",
        "def compare_rmse(lstm_train_rmse, lstm_test_rmse, baseline_train_rmse, baseline_test_rmse):\n",
        "    \"\"\"\n",
        "    Compare the MSE of train and test data for different models.\n",
        "\n",
        "    Parameters:\n",
        "        rnn_train_rmse (float): MSE of the RNN model on the train data.\n",
        "        rnn_test_rmse (float): MSE of the RNN model on the test data.\n",
        "        gru_train_rmse (float): MSE of the GRU model on the train data.\n",
        "        gru_test_rmse (float): MSE of the GRU model on the test data.\n",
        "        lstm_train_rmse (float): MSE of the LSTM model on the train data.\n",
        "        lstm_test_rmse (float): MSE of the LSTM model on the test data.\n",
        "        baseline_train_rmse (float): MSE of the Baseline model on the train data.\n",
        "        baseline_test_rmse (float): MSE of the Baseline model on the test data.\n",
        "\n",
        "    Returns:\n",
        "        pandas.DataFrame: A table containing the comparison of MSE values for different models.\n",
        "    \"\"\"\n",
        "    model_names = [ 'LSTM', 'Baseline']\n",
        "    train_mse_values = [lstm_train_rmse, baseline_train_rmse]\n",
        "    test_mse_values = [ lstm_test_rmse, baseline_test_rmse]\n",
        "\n",
        "    comparison_df = pd.DataFrame({'Model': model_names,\n",
        "                                  'Train MSE': train_mse_values,\n",
        "                                  'Test MSE': test_mse_values})\n",
        "\n",
        "    return comparison_df"
      ]
    },
    {
      "cell_type": "code",
      "execution_count": null,
      "metadata": {
        "colab": {
          "base_uri": "https://localhost:8080/"
        },
        "id": "pjVKqn5N6nZm",
        "outputId": "88aee247-ebdc-4cc6-eb64-afbb31895095"
      },
      "outputs": [],
      "source": [
        "comparison_table = compare_rmse(train_mse_LSTM, test_mse_LSTM, mse_train_previous_value, mse_test_previous_value)\n",
        "print(comparison_table)"
      ]
    },
    {
      "cell_type": "code",
      "execution_count": null,
      "metadata": {
        "id": "gid_bTVB7TbA"
      },
      "outputs": [],
      "source": [
        "# Get the list of suggested hyperparameters for all trials\n",
        "suggested_hyperparameters = [trial.params for trial in study.trials]"
      ]
    },
    {
      "cell_type": "code",
      "execution_count": null,
      "metadata": {},
      "outputs": [],
      "source": [
        "# You can access the suggested hyperparameters for all trials using suggested_hyperparameters\n",
        "print(\"Suggested Hyperparameters for All Trials:\")\n",
        "for i, params in enumerate(suggested_hyperparameters):\n",
        "    print(f\"Trial {i + 1}: {params}\")"
      ]
    },
    {
      "cell_type": "code",
      "execution_count": null,
      "metadata": {},
      "outputs": [],
      "source": []
    }
  ],
  "metadata": {
    "accelerator": "GPU",
    "colab": {
      "provenance": []
    },
    "kernelspec": {
      "display_name": "Python 3",
      "name": "python3"
    },
    "language_info": {
      "codemirror_mode": {
        "name": "ipython",
        "version": 3
      },
      "file_extension": ".py",
      "mimetype": "text/x-python",
      "name": "python",
      "nbconvert_exporter": "python",
      "pygments_lexer": "ipython3",
      "version": "3.10.4"
    }
  },
  "nbformat": 4,
  "nbformat_minor": 0
}
